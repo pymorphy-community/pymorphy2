{
 "metadata": {
  "name": "shrink-unigrams"
 },
 "nbformat": 3,
 "nbformat_minor": 0,
 "worksheets": [
  {
   "cells": [
    {
     "cell_type": "markdown",
     "metadata": {},
     "source": [
      "This notebook prepares a reduced file with unigrams (to make benchmarks runs faster)."
     ]
    },
    {
     "cell_type": "code",
     "collapsed": false,
     "input": [
      "import random\n",
      "import math\n",
      "random.seed(0)\n",
      "\n",
      "TOTAL_UNIGRAMS = 2000\n",
      "HEAD_SIZE = 400\n",
      "COUNTS_SCALE = 0.05\n",
      "OUT_PATH = '../dev_data/unigrams.txt'\n",
      "\n",
      "# unigrams file downloaded from http://opencorpora.org/?page=downloads\n",
      "SOURCE_UNIGRAMS_PATH = '../dev_data/unigrams.cyr.lc' "
     ],
     "language": "python",
     "metadata": {},
     "outputs": [],
     "prompt_number": 109
    },
    {
     "cell_type": "code",
     "collapsed": false,
     "input": [
      "def _scaled(txt):\n",
      "    return math.ceil(int(txt)*COUNTS_SCALE)\n",
      "\n",
      "with open(SOURCE_UNIGRAMS_PATH, 'rb') as f:\n",
      "    lines = [line.split() for line in f.read().decode('utf8').split('\\n') if line]\n",
      "    unigrams = [(word, _scaled(count), _scaled(ipm)) for (word, count, ipm) in lines]"
     ],
     "language": "python",
     "metadata": {},
     "outputs": [],
     "prompt_number": 110
    },
    {
     "cell_type": "code",
     "collapsed": false,
     "input": [
      "head, tail = unigrams[:HEAD_SIZE], unigrams[HEAD_SIZE:]\n",
      "take_ids = sorted(random.sample(range(len(tail)), TOTAL_UNIGRAMS-HEAD_SIZE))\n",
      "result = head + [tail[i] for i in take_ids]\n",
      "assert len(result) == TOTAL_UNIGRAMS"
     ],
     "language": "python",
     "metadata": {},
     "outputs": [],
     "prompt_number": 111
    },
    {
     "cell_type": "code",
     "collapsed": false,
     "input": [
      "with open(OUT_PATH, 'wb') as f:\n",
      "    f.write(\"\\n\".join([\"%s\\t%s\\t%s\" % r for r in result]).encode('utf8'))"
     ],
     "language": "python",
     "metadata": {},
     "outputs": [],
     "prompt_number": 112
    }
   ],
   "metadata": {}
  }
 ]
}